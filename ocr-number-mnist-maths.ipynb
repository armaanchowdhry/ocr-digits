{
 "cells": [
  {
   "cell_type": "code",
   "execution_count": 1,
   "metadata": {},
   "outputs": [],
   "source": [
    "import pandas as pd\n",
    "import numpy as np\n",
    "import pickle\n",
    "import csv\n",
    "from keras.datasets import mnist\n",
    "import matplotlib.pyplot as plt\n",
    "from PIL import Image"
   ]
  },
  {
   "cell_type": "code",
   "execution_count": 12,
   "metadata": {},
   "outputs": [],
   "source": [
    "# Load the MNIST dataset, consisting of training and testing data\n",
    "(X_train, Y_train), (X_test, Y_test) = mnist.load_data()\n",
    "\n",
    "# Scaling factor used for normalization, important to prevent overflow during exponentiation\n",
    "Scaling = 255 # 255 is the maximum pixel value in grayscale images\n",
    "\n",
    "# Get the dimensions (width and height) of the training images\n",
    "WIDTH = X_train.shape[1] # Width of each image in pixels\n",
    "HEIGHT = X_train.shape[2] # Height of each image in pixels"
   ]
  },
  {
   "cell_type": "code",
   "execution_count": 3,
   "metadata": {},
   "outputs": [],
   "source": [
    "# # Reshape the data (X_train) from 3D images to 2D arrays and normalize it\n",
    "X_train = X_train.reshape(X_train.shape[0],WIDTH*HEIGHT).T / Scaling\n",
    "X_test = X_test.reshape(X_test.shape[0],WIDTH*HEIGHT).T  / Scaling"
   ]
  },
  {
   "cell_type": "code",
   "execution_count": 6,
   "metadata": {},
   "outputs": [],
   "source": [
    "# Define batch size\n",
    "batch_size = 128\n",
    "\n",
    "# Calculate the total number of batches\n",
    "num_batches = len(X_train) // batch_size\n",
    "\n",
    "# Create mini-batches\n",
    "mini_batches = []\n",
    "for i in range(num_batches):\n",
    "    start_idx = i * batch_size\n",
    "    end_idx = (i + 1) * batch_size\n",
    "    mini_batch_X = X_train[start_idx:end_idx]\n",
    "    mini_batch_Y = Y_train[start_idx:end_idx]\n",
    "    mini_batches.append((mini_batch_X, mini_batch_Y))\n",
    "\n",
    "# If there are any remaining data points, create one more mini-batch\n",
    "if len(X_train) % batch_size != 0:\n",
    "    mini_batch_X = X_train[num_batches * batch_size:]\n",
    "    mini_batch_Y = Y_train[num_batches * batch_size:]\n",
    "    mini_batches.append((mini_batch_X, mini_batch_Y))"
   ]
  },
  {
   "cell_type": "code",
   "execution_count": 8,
   "metadata": {},
   "outputs": [],
   "source": [
    "# Define the Rectified Linear Unit (ReLU) activation function\n",
    "def ReLU(Z):\n",
    "    return np.maximum(Z,0)\n",
    "\n",
    "# Compute the derivative of the ReLU activation function\n",
    "def derivative_ReLU(Z):\n",
    "    return Z > 0\n",
    "\n",
    "# Define the softmax activation function\n",
    "def softmax(Z):\n",
    "    # Compute softmax values for each sets of scores in x.\n",
    "    exp = np.exp(Z - np.max(Z)) #the np.max(Z) avoids an overflow by reducing the content of exp\n",
    "    return exp / exp.sum(axis=0)\n",
    "\n",
    "# Initialize neural network parameters (weights and biases)\n",
    "def init_params(nodes,size):\n",
    "    # Initialize weights (W1 and W2) and biases (b1 and b2) with random values\n",
    "    W1 = np.random.rand(nodes,size) * np.sqrt(1./(size))\n",
    "    b1 = np.random.rand(nodes,1) * np.sqrt(1./nodes)\n",
    "    W2 = np.random.rand(nodes,nodes) * np.sqrt(1./nodes)\n",
    "    b2 = np.random.rand(nodes,1) * np.sqrt(1./(size))\n",
    "    return W1,b1,W2,b2\n",
    "\n",
    "# Perform forward propagation through the neural network\n",
    "def forward_propagation(X,W1,b1,W2,b2):\n",
    "    Z1 = W1.dot(X) + b1 # Calculate the first layer's weighted sum (10, m)\n",
    "    A1 = ReLU(Z1) # Apply ReLU activation to the first layer (10,m)\n",
    "    Z2 = W2.dot(A1) + b2 # Calculate the second layer's weighted sum (10,m)\n",
    "    A2 = softmax(Z2) # Apply softmax activation to the second layer (10,m)\n",
    "    return Z1, A1, Z2, A2\n",
    "\n",
    "# Create a one-hot encoding of target labels Y\n",
    "def one_hot(Y,nodes):\n",
    "    # return 0 vector with 1 only for the position corresponding to the value in Y \n",
    "    one_hot_Y = np.zeros((nodes, Y.size))\n",
    "    one_hot_Y[Y, np.arange(Y.size)] = 1\n",
    "    return one_hot_Y\n",
    "\n",
    "Perform backward propagation to compute gradients\n",
    "def backward_propagation(nodes,X, Y, A1, A2, W2, Z1, m):\n",
    "    one_hot_Y = one_hot(Y,nodes)\n",
    "    dZ2 = 2*(A2 - one_hot_Y) # Calculate the gradient of the second layer (nodes,m)\n",
    "    dW2 = 1/m * (dZ2.dot(A1.T)) # Compute the weight gradients for the second layer (nodes , nodes)\n",
    "    db2 = 1/m * np.sum(dZ2,axis=1, keepdims=True) # Compute the bias gradients for the second layer (nodes, 1)\n",
    "    dZ1 = W2.T.dot(dZ2)*derivative_ReLU(Z1) # Calculate the gradient of the first layer (nodes, m)\n",
    "    dW1 = 1/m * (dZ1.dot(X.T)) # Compute the weight gradients for the first layer (nodes, size)\n",
    "    db1 = 1/m * np.sum(dZ1,axis=1, keepdims=True) # Compute the bias gradients for the first layer (nodes, 1)\n",
    "\n",
    "    return dW1, db1, dW2, db2\n",
    "\n",
    "# Update model parameters using gradient descent\n",
    "def update_params(nodes,alpha, W1, b1, W2, b2, dW1, db1, dW2, db2):\n",
    "    W1 -= alpha * dW1 # Update the first layer weights\n",
    "    b1 -= alpha * np.reshape(db1, (nodes,1)) # Update the first layer biases\n",
    "    W2 -= alpha * dW2 # Update the second layer weights\n",
    "    b2 -= alpha * np.reshape(db2, (nodes,1)) # Update the second layer biases\n",
    "\n",
    "    return W1, b1, W2, b2"
   ]
  },
  {
   "cell_type": "code",
   "execution_count": null,
   "metadata": {},
   "outputs": [],
   "source": [
    "# # Get predictions by finding the index with the highest value in A2\n",
    "def get_predictions(A2):\n",
    "    return np.argmax(A2, 0)\n",
    "\n",
    "# Calculate the accuracy of predictions compared to ground truth labels\n",
    "def get_accuracy(predictions, Y):\n",
    "    return np.sum(predictions == Y)/Y.size\n",
    "\n",
    "# Implement gradient descent training with mini-batches\n",
    "def gradient_descent(X, Y, alpha, iterations,batch_size):\n",
    "    size , m = X.shape\n",
    "    nodes = 512\n",
    "\n",
    "    # Initialize model parameters\n",
    "    W1, b1, W2, b2 = init_params(nodes,size)\n",
    "    for i in range(iterations):\n",
    "        # Mini-batch training\n",
    "        for batch_start in range(0, m, batch_size):\n",
    "            batch_end = min(batch_start + batch_size, m)\n",
    "            X_batch = X[:, batch_start:batch_end]\n",
    "            Y_batch = Y[batch_start:batch_end]\n",
    "        # Forward propagation    \n",
    "        Z1, A1, Z2, A2 = forward_propagation(X, W1, b1, W2, b2)\n",
    "        # Backward propagation\n",
    "        dW1, db1, dW2, db2 = backward_propagation(nodes,X, Y, A1, A2, W2, Z1, m)\n",
    "        # Update model parameters\n",
    "        W1, b1, W2, b2 = update_params(nodes,alpha, W1, b1, W2, b2, dW1, db1, dW2, db2)   \n",
    "\n",
    "        if (i+1) % int(iterations/10) == 0:\n",
    "            print(f\"Iteration: {i+1} / {iterations}\")\n",
    "            prediction = get_predictions(A2)\n",
    "            print(f'{get_accuracy(prediction, Y):.3%}')\n",
    "    return W1, b1, W2, b2"
   ]
  },
  {
   "cell_type": "code",
   "execution_count": null,
   "metadata": {},
   "outputs": [],
   "source": [
    "# Function to make predictions using the trained model\n",
    "def make_predictions(X, W1 ,b1, W2, b2):\n",
    "    # Perform forward propagation to get predictions from the model\n",
    "    _, _, _, A2 = forward_propagation(X, W1, b1, W2, b2)\n",
    "    # Get the class predictions based on the highest probability in A2\n",
    "    predictions = get_predictions(A2)\n",
    "    return predictions\n",
    "\n",
    "# Function to display a prediction along with the actual label\n",
    "def show_prediction(index,X, Y, W1, b1, W2, b2):\n",
    "    # None => creates a new axis of dimension 1, this has the effect of transposing X[:,index] which is an np.array of dimension 1 (row) and which becomes a vector (column) \n",
    "    # ...which corresponds well to what is requested by make_predictions which expects a matrix whose columns are the pixels of the image, there we give a single column\n",
    "    # Extract the image data for the specified index\n",
    "    vect_X = X[:, index,None]\n",
    "    # Get the prediction for the image using the model\n",
    "    prediction = make_predictions(vect_X, W1, b1, W2, b2)\n",
    "    # Get the actual label from the ground truth\n",
    "    label = Y[index]\n",
    "    # Print the prediction and label\n",
    "    print(\"Prediction: \", prediction)\n",
    "    print(\"Label: \", label)\n",
    "\n",
    "    # Reshape the image data and scale it for display\n",
    "    current_image = vect_X.reshape((WIDTH, HEIGHT)) * Scaling\n",
    "\n",
    "    # Display the image using matplotlib\n",
    "    plt.gray()\n",
    "    plt.imshow(current_image, interpolation='nearest')\n",
    "    plt.show()"
   ]
  },
  {
   "cell_type": "code",
   "execution_count": 9,
   "metadata": {},
   "outputs": [
    {
     "name": "stdout",
     "output_type": "stream",
     "text": [
      "Iteration: 20 / 200\n",
      "48.205%\n",
      "Iteration: 40 / 200\n",
      "60.473%\n",
      "Iteration: 60 / 200\n",
      "79.817%\n",
      "Iteration: 80 / 200\n",
      "85.078%\n",
      "Iteration: 100 / 200\n",
      "88.278%\n",
      "Iteration: 120 / 200\n",
      "89.665%\n",
      "Iteration: 140 / 200\n",
      "90.307%\n",
      "Iteration: 160 / 200\n",
      "90.753%\n",
      "Iteration: 180 / 200\n",
      "91.170%\n",
      "Iteration: 200 / 200\n",
      "91.498%\n"
     ]
    }
   ],
   "source": [
    "# Perform gradient descent to train the neural network model\n",
    "# Parameters:\n",
    "# - X_train: Training input data\n",
    "# - Y_train: Training labels\n",
    "# - 0.15: Learning rate\n",
    "# - 200: Number of iterations (epochs)\n",
    "# - batch_size: Size of mini-batches for training\n",
    "\n",
    "W1, b1, W2, b2 = gradient_descent(X_train, Y_train, 0.15, 200,batch_size)\n",
    "\n",
    "# Save the trained model parameters (weights and biases) to a pickle file\n",
    "# This allows you to reuse the trained model without retraining\n",
    "with open(\"trained_params.pkl\",\"wb\") as dump_file:\n",
    "    pickle.dump((W1, b1, W2, b2),dump_file)"
   ]
  },
  {
   "cell_type": "code",
   "execution_count": 10,
   "metadata": {},
   "outputs": [
    {
     "name": "stdout",
     "output_type": "stream",
     "text": [
      "Prediction:  [4]\n",
      "Label:  4\n"
     ]
    },
    {
     "data": {
      "image/png": "[encoded data removed]",
      "text/plain": [
       "<Figure size 640x480 with 1 Axes>"
      ]
     },
     "metadata": {},
     "output_type": "display_data"
    },
    {
     "name": "stdout",
     "output_type": "stream",
     "text": [
      "Prediction:  [7]\n",
      "Label:  7\n"
     ]
    },
    {
     "data": {
      "image/png": "[encoded data removed]",
      "text/plain": [
       "<Figure size 640x480 with 1 Axes>"
      ]
     },
     "metadata": {},
     "output_type": "display_data"
    },
    {
     "name": "stdout",
     "output_type": "stream",
     "text": [
      "Prediction:  [4]\n",
      "Label:  4\n"
     ]
    },
    {
     "data": {
      "image/png": "[encoded data removed]",
      "text/plain": [
       "<Figure size 640x480 with 1 Axes>"
      ]
     },
     "metadata": {},
     "output_type": "display_data"
    }
   ],
   "source": [
    "# Load the trained model parameters from a pickle file\n",
    "with open(\"trained_params.pkl\",\"rb\") as dump_file:\n",
    "    W1, b1, W2, b2=pickle.load(dump_file)\n",
    "\n",
    "# Display predictions for several test images\n",
    "show_prediction(4,X_test, Y_test, W1, b1, W2, b2)\n",
    "show_prediction(97,X_test, Y_test, W1, b1, W2, b2)\n",
    "show_prediction(533,X_test, Y_test, W1, b1, W2, b2)"
   ]
  },
  {
   "cell_type": "code",
   "execution_count": 11,
   "metadata": {},
   "outputs": [
    {
     "name": "stdout",
     "output_type": "stream",
     "text": [
      "Accuracy on the test dataset: 91.450%\n"
     ]
    }
   ],
   "source": [
    "# Make predictions on the test dataset using the trained model parameters\n",
    "dev_predictions = make_predictions(X_test, W1, b1, W2, b2)\n",
    "\n",
    "# Calculate the accuracy of the model on the test dataset\n",
    "accuracy = get_accuracy(dev_predictions, Y_test)\n",
    "print(f\"Accuracy on the test dataset: {accuracy:.3%}\")"
   ]
  }
 ],
 "metadata": {
  "kernelspec": {
   "display_name": "Python 3",
   "language": "python",
   "name": "python3"
  },
  "language_info": {
   "codemirror_mode": {
    "name": "ipython",
    "version": 3
   },
   "file_extension": ".py",
   "mimetype": "text/x-python",
   "name": "python",
   "nbconvert_exporter": "python",
   "pygments_lexer": "ipython3",
   "version": "3.11.5"
  },
  "orig_nbformat": 4
 },
 "nbformat": 4,
 "nbformat_minor": 2
}
